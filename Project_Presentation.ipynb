{
 "cells": [
  {
   "attachments": {},
   "cell_type": "markdown",
   "metadata": {},
   "source": [
    "# Milestone 1"
   ]
  },
  {
   "attachments": {},
   "cell_type": "markdown",
   "metadata": {},
   "source": [
    "## Step 1: Preparing for Your Proposal"
   ]
  },
  {
   "attachments": {},
   "cell_type": "markdown",
   "metadata": {},
   "source": [
    "### 1. Which client/dataset did you select and why?"
   ]
  },
  {
   "attachments": {},
   "cell_type": "markdown",
   "metadata": {},
   "source": [
    "I selected [SportStats](https://www.dropbox.com/sh/0wqw8fmiwrzr8ef/AABQijjQM522INXX1FCdamzma?dl=0) dataset to detect the relationships between the quality of athletes and the success rate of each NOC in terms of the number of medals they got."
   ]
  },
  {
   "attachments": {},
   "cell_type": "markdown",
   "metadata": {},
   "source": [
    "### 2. Describe the steps you took to import and clean the data."
   ]
  },
  {
   "attachments": {},
   "cell_type": "markdown",
   "metadata": {},
   "source": [
    "- First, I imported both of the csv files by using pandas read_csv function."
   ]
  },
  {
   "attachments": {},
   "cell_type": "markdown",
   "metadata": {},
   "source": [
    "- Second, I added *new_region* feature to the __noc_regions__ file by combining *notes* and *region* features."
   ]
  },
  {
   "attachments": {},
   "cell_type": "markdown",
   "metadata": {},
   "source": [
    "- After that, I merged both files on *NOC* feature so that I added *Region* feature to the main file."
   ]
  },
  {
   "attachments": {},
   "cell_type": "markdown",
   "metadata": {},
   "source": [
    "### 3. Perform initial exploration of data and provide some screenshots or display some stats of the data you are looking at."
   ]
  },
  {
   "attachments": {},
   "cell_type": "markdown",
   "metadata": {},
   "source": [
    "![caption](output1.png)"
   ]
  },
  {
   "attachments": {},
   "cell_type": "markdown",
   "metadata": {},
   "source": [
    "![caption](output2.png)"
   ]
  },
  {
   "attachments": {},
   "cell_type": "markdown",
   "metadata": {},
   "source": [
    "![caption](output3.png)"
   ]
  },
  {
   "attachments": {},
   "cell_type": "markdown",
   "metadata": {},
   "source": [
    "![caption](output4.png)"
   ]
  },
  {
   "attachments": {},
   "cell_type": "markdown",
   "metadata": {},
   "source": [
    "### 4. Create an ERD or proposed ERD to show the relationships of the data you are exploring. "
   ]
  },
  {
   "attachments": {},
   "cell_type": "markdown",
   "metadata": {},
   "source": [
    "![caption](ERD.png)"
   ]
  },
  {
   "attachments": {},
   "cell_type": "markdown",
   "metadata": {},
   "source": [
    "## Step 2: Develop Project Proposal"
   ]
  },
  {
   "attachments": {},
   "cell_type": "markdown",
   "metadata": {},
   "source": [
    "### Description"
   ]
  },
  {
   "attachments": {},
   "cell_type": "markdown",
   "metadata": {},
   "source": [
    "My project aims to find some of the reasons for the success of any NOC in terms of medal numbers.\n"
   ]
  },
  {
   "attachments": {},
   "cell_type": "markdown",
   "metadata": {},
   "source": [
    "This data will help the coaches to analyze previous records and get some insights.\n"
   ]
  },
  {
   "attachments": {},
   "cell_type": "markdown",
   "metadata": {},
   "source": [
    "This analysis shows the differences between the NOCs in terms of physical features of their athletes.\n"
   ]
  },
  {
   "attachments": {},
   "cell_type": "markdown",
   "metadata": {},
   "source": [
    "These results also give the most successful countries in each year so that trainers can analyse past results and detect what to do to get similar results."
   ]
  },
  {
   "attachments": {},
   "cell_type": "markdown",
   "metadata": {},
   "source": [
    "### Questions"
   ]
  },
  {
   "attachments": {},
   "cell_type": "markdown",
   "metadata": {},
   "source": [
    "1. Which NOC(s) (National Olympic Committee) has the highest number of medals and when?\n"
   ]
  },
  {
   "attachments": {},
   "cell_type": "markdown",
   "metadata": {},
   "source": [
    "2. What is the change in physical features of athletes of NOCs in each year? Which one has changed more throughout the years?\n"
   ]
  },
  {
   "attachments": {},
   "cell_type": "markdown",
   "metadata": {},
   "source": [
    "3. What is the relationship between the quality stats of the NOCs and the success in terms of the number of medals they got?"
   ]
  },
  {
   "attachments": {},
   "cell_type": "markdown",
   "metadata": {},
   "source": [
    "### Hypothesis"
   ]
  },
  {
   "attachments": {},
   "cell_type": "markdown",
   "metadata": {},
   "source": [
    "- Russia and USA will have the most number of medals in each year generally.\n"
   ]
  },
  {
   "attachments": {},
   "cell_type": "markdown",
   "metadata": {},
   "source": [
    "- The female ratio will probably increase until the 21st century and become nearly constant in each NOC.\n"
   ]
  },
  {
   "attachments": {},
   "cell_type": "markdown",
   "metadata": {},
   "source": [
    "- Healthy BMI (between 18.5—24.9), stabil sex distribution, and other features will have a positive impact on success."
   ]
  },
  {
   "attachments": {},
   "cell_type": "markdown",
   "metadata": {},
   "source": [
    "### Approach"
   ]
  },
  {
   "attachments": {},
   "cell_type": "markdown",
   "metadata": {},
   "source": [
    "I am going to look at _NOC_, _Year_, and _Medal_ features first.\n"
   ]
  },
  {
   "attachments": {},
   "cell_type": "markdown",
   "metadata": {},
   "source": [
    "\n",
    "For my ER diagram, I need to separate the table and form relations with each of them.\n"
   ]
  },
  {
   "attachments": {},
   "cell_type": "markdown",
   "metadata": {},
   "source": [
    "\n",
    "To do this, I am going to use SQL."
   ]
  },
  {
   "attachments": {},
   "cell_type": "markdown",
   "metadata": {},
   "source": [
    "Also I am going to spend time on feature engineering for my quality stats."
   ]
  },
  {
   "attachments": {},
   "cell_type": "markdown",
   "metadata": {},
   "source": [
    "Finally, I'll plot some graphs using matplotlib and seaborn libraries."
   ]
  },
  {
   "attachments": {},
   "cell_type": "markdown",
   "metadata": {},
   "source": [
    "# Milestone 2"
   ]
  },
  {
   "attachments": {},
   "cell_type": "markdown",
   "metadata": {},
   "source": [
    " - I looked at the physical feature distribution of some countries and compared them with each other using a pair plot to find some correlations for my third question. For the first question, I scrutinized the bar graph of each year's best countries (the highest number of medals). And lastly, I plotted the graph of change in each attribute of athletes through all the years to find the most changed feature of the table for my second question.  \n",
    "\n",
    " - I discovered that the countries that have high male ratio than others are generally less successful than others. Also, the interval of mean BMI, mean height and mean weight values of successful NOCs (like the USA and Finland) in each year is narrower than the others. Finally, I realized another key point that after the dissolution of the Soviet Union, Russia couldn't have the highest number of medals (Couldn't be the best country of the year).  \n",
    "\n",
    " - I proved my first two hypotheses (\"Russia and the USA will have the most number of medals in each year generally.\" and \"The female ratio will probably increase until the 21st century and become nearly constant in each NOC.\") but I couldn't prove my third hypothesis(Healthy BMI (between 18.5—24.9), stable sex distribution, and other features will have a positive impact on success.) completely. Some features have a positive impact on success but some are neutral.  \n",
    "\n",
    " - I want to guess whether a new athlete will get a medal in an event. I am going to use the logistic regression model and test it."
   ]
  },
  {
   "attachments": {},
   "cell_type": "markdown",
   "metadata": {},
   "source": [
    "# Milestone 3"
   ]
  },
  {
   "attachments": {},
   "cell_type": "markdown",
   "metadata": {},
   "source": [
    " - I discovered that the eta-squared between the  _Medal_ feature and each numeric feature (age, weight, height, and BMI) is less than 0.01 which means the effect size is negligible.\n",
    "\n",
    " - I considered male and female ratio, mean height, weight, age, and BMI for my NOC analysis. In athlete analysis, I used Sex, Age, Height, Weight, Team, Sport, and Event features to predict whether a new athlete will get a medal (it failed after the eta-squared test, the relation is negligible).\n",
    "\n",
    " - I detected that std values of kernel density estimate in my pair plot are lower in successful NOCs than in the other NOCs."
   ]
  },
  {
   "attachments": {},
   "cell_type": "markdown",
   "metadata": {},
   "source": [
    "# Milestone 4"
   ]
  },
  {
   "attachments": {},
   "cell_type": "markdown",
   "metadata": {},
   "source": [
    "- I used the VSCode Jupyter Notebook because of its handy structure so that the audience can easily read and understand the concept that I clarified.\n",
    "\n",
    "- I utilized Pandas and SQLite for my data processes. I visualized the data with Matplotlib and Seaborn and developed ER diagram with VSCode __ERD Editor__ extension.\n",
    "\n",
    "- All of my questions, hypothesis, approaches, and relevant visualizations are provided in this Jupyter Notebook.\n",
    "\n",
    "- As a recommendation, the coaches of the NOCs should maintain the balance between the male and female ratio between their athletes, and the physical features of the athletes they will choose should be kept similar to their other athletes (for less variance/std like in the USA and Finland examples).\n",
    "\n",
    "- As for the athletes, the physical features of one athlete, their NOC, team, or other features do not give any information about whether they will get a medal or not according to the eta-squared test. Despite this result, I tried to produce predictions by using XGBClassifier and it failed. There is no relevant data in this dataset for this prediction task.  "
   ]
  }
 ],
 "metadata": {
  "kernelspec": {
   "display_name": "Python 3",
   "language": "python",
   "name": "python3"
  },
  "language_info": {
   "name": "python",
   "version": "3.11.3"
  },
  "orig_nbformat": 4
 },
 "nbformat": 4,
 "nbformat_minor": 2
}
